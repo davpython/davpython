{
 "cells": [
  {
   "cell_type": "markdown",
   "metadata": {},
   "source": [
    "# 2. Basic concepts in data analysis"
   ]
  },
  {
   "cell_type": "markdown",
   "metadata": {},
   "source": [
    "In this section, we explore and define several key concepts in data analysis. The explanations will be brief, as the goal is to lay the conceptual foundations for the actual data analysis process. Some concepts will be reviewed in more detail later in the book."
   ]
  },
  {
   "cell_type": "code",
   "execution_count": 1,
   "metadata": {
    "execution": {
     "iopub.execute_input": "2020-07-30T21:48:46.261947Z",
     "iopub.status.busy": "2020-07-30T21:48:46.261212Z",
     "iopub.status.idle": "2020-07-30T21:48:51.101612Z",
     "shell.execute_reply": "2020-07-30T21:48:51.101133Z"
    }
   },
   "outputs": [],
   "source": [
    "# Libraries for this section\n",
    "\n",
    "import pandas as pd\n",
    "import numpy as np\n",
    "from scipy.stats import skewnorm\n",
    "%config InlineBackend.figure_format='retina'"
   ]
  },
  {
   "cell_type": "markdown",
   "metadata": {},
   "source": [
    "## Tabular data"
   ]
  },
  {
   "cell_type": "markdown",
   "metadata": {},
   "source": [
    "Data comes in many shapes and sizes. However, in the context of data analysis, we usually prefer to work with **tabular data**. Put simply, **tabular data are collections of values placed in some order in a two-dimensional grid**. The horizontal dimension usually represents records, cases, or samples. The vertical dimension usually represents attributes, variables, or features.\n",
    "\n",
    "📓  **Tabular data**: \n",
    ">Tabular data are collections of values placed in a two-dimensional grid. The horizontal dimension usually represents records, cases, or samples. The vertical dimension usually represents attributes, variables, or features.\n",
    "\n",
    "Imagine you decide to make a survey among your friends asking how much they enjoyed each of the five [Naruto's seasons](https://en.wikipedia.org/wiki/List_of_Naruto_episodes). Let's build a table with their hypothetical responses. There is no need for you to understand the `pandas` code, just the output."
   ]
  },
  {
   "cell_type": "code",
   "execution_count": 2,
   "metadata": {
    "execution": {
     "iopub.execute_input": "2020-07-30T21:48:51.156773Z",
     "iopub.status.busy": "2020-07-30T21:48:51.144540Z",
     "iopub.status.idle": "2020-07-30T21:48:51.172568Z",
     "shell.execute_reply": "2020-07-30T21:48:51.172872Z"
    }
   },
   "outputs": [
    {
     "data": {
      "text/html": [
       "<div>\n",
       "<style scoped>\n",
       "    .dataframe tbody tr th:only-of-type {\n",
       "        vertical-align: middle;\n",
       "    }\n",
       "\n",
       "    .dataframe tbody tr th {\n",
       "        vertical-align: top;\n",
       "    }\n",
       "\n",
       "    .dataframe thead th {\n",
       "        text-align: right;\n",
       "    }\n",
       "</style>\n",
       "<table border=\"1\" class=\"dataframe\">\n",
       "  <thead>\n",
       "    <tr style=\"text-align: right;\">\n",
       "      <th></th>\n",
       "      <th>Name</th>\n",
       "      <th>Age</th>\n",
       "      <th>Naruto-season-1</th>\n",
       "      <th>Naruto-season-2</th>\n",
       "      <th>Naruto-season-3</th>\n",
       "      <th>Naruto-season-4</th>\n",
       "      <th>Naruto-season-5</th>\n",
       "    </tr>\n",
       "  </thead>\n",
       "  <tbody>\n",
       "    <tr>\n",
       "      <th>0</th>\n",
       "      <td>Luis</td>\n",
       "      <td>19</td>\n",
       "      <td>6</td>\n",
       "      <td>7</td>\n",
       "      <td>7</td>\n",
       "      <td>6</td>\n",
       "      <td>8</td>\n",
       "    </tr>\n",
       "    <tr>\n",
       "      <th>1</th>\n",
       "      <td>Lulu</td>\n",
       "      <td>32</td>\n",
       "      <td>8</td>\n",
       "      <td>3</td>\n",
       "      <td>6</td>\n",
       "      <td>9</td>\n",
       "      <td>9</td>\n",
       "    </tr>\n",
       "    <tr>\n",
       "      <th>2</th>\n",
       "      <td>Roberto</td>\n",
       "      <td>27</td>\n",
       "      <td>8</td>\n",
       "      <td>7</td>\n",
       "      <td>5</td>\n",
       "      <td>10</td>\n",
       "      <td>9</td>\n",
       "    </tr>\n",
       "  </tbody>\n",
       "</table>\n",
       "</div>"
      ],
      "text/plain": [
       "      Name  Age  Naruto-season-1  Naruto-season-2  Naruto-season-3  \\\n",
       "0     Luis   19                6                7                7   \n",
       "1     Lulu   32                8                3                6   \n",
       "2  Roberto   27                8                7                5   \n",
       "\n",
       "   Naruto-season-4  Naruto-season-5  \n",
       "0                6                8  \n",
       "1                9                9  \n",
       "2               10                9  "
      ]
     },
     "execution_count": 2,
     "metadata": {},
     "output_type": "execute_result"
    }
   ],
   "source": [
    "survey_data = {'Name': [\"Luis\", \"Lulu\", \"Roberto\"],\n",
    "               'Age': [19, 32, 27],\n",
    "               'Naruto-season-1': [6, 8, 8],\n",
    "               'Naruto-season-2': [7, 3, 7],\n",
    "               'Naruto-season-3': [7, 6, 5],\n",
    "               'Naruto-season-4': [6, 9, 10],\n",
    "               'Naruto-season-5': [8, 9, 9]}\n",
    "tabular_data = pd.DataFrame.from_dict(survey_data)\n",
    "\n",
    "tabular_data"
   ]
  },
  {
   "cell_type": "markdown",
   "metadata": {},
   "source": [
    "As you can see, the data structure is clean and simple to understand, just like any spreadsheet. Each row represents one of your friends, and the columns represent their attributes and/or responses."
   ]
  },
  {
   "cell_type": "markdown",
   "metadata": {},
   "source": [
    "## Nontabular data"
   ]
  },
  {
   "cell_type": "markdown",
   "metadata": {},
   "source": [
    "Not all data comes in tabular form. As the name suggests, any collection of values that are not arranged in a table falls into this category: image data, video data, audio data, documents, website logs, graph data, and others. \n",
    "\n",
    "📓  **Nontabular data**: \n",
    "> Any data format that is not structured in tabular form. Examples are: image data, video data, audio data, website logs, and graph data.\n",
    "\n",
    "For instance, digital color images are a collection of red, green, and blue (RGB) pixels. Besides, you have to consider information about their dimensionality. Altogether, you need five dimensions to represent an image: red, green, blue, width, and height. Hence, you can't just fit a JPEG or PNG image into a two-dimensional table. There is a kind of mathematical object called [tensor](https://en.wikipedia.org/wiki/Tensor) that can be used to represent higher-dimensional objects, yet it is beyond the scope of this book.\n",
    "\n",
    "There are **strategies to coerce nontabular data into tabular form**. For instance, a graph with nodes and links can be tabulated as:"
   ]
  },
  {
   "cell_type": "code",
   "execution_count": 3,
   "metadata": {
    "execution": {
     "iopub.execute_input": "2020-07-30T21:48:51.182750Z",
     "iopub.status.busy": "2020-07-30T21:48:51.181864Z",
     "iopub.status.idle": "2020-07-30T21:48:51.187159Z",
     "shell.execute_reply": "2020-07-30T21:48:51.186770Z"
    }
   },
   "outputs": [
    {
     "data": {
      "text/html": [
       "<div>\n",
       "<style scoped>\n",
       "    .dataframe tbody tr th:only-of-type {\n",
       "        vertical-align: middle;\n",
       "    }\n",
       "\n",
       "    .dataframe tbody tr th {\n",
       "        vertical-align: top;\n",
       "    }\n",
       "\n",
       "    .dataframe thead th {\n",
       "        text-align: right;\n",
       "    }\n",
       "</style>\n",
       "<table border=\"1\" class=\"dataframe\">\n",
       "  <thead>\n",
       "    <tr style=\"text-align: right;\">\n",
       "      <th></th>\n",
       "      <th>From-node</th>\n",
       "      <th>To-node</th>\n",
       "      <th>Type-link</th>\n",
       "    </tr>\n",
       "  </thead>\n",
       "  <tbody>\n",
       "    <tr>\n",
       "      <th>0</th>\n",
       "      <td>alligator</td>\n",
       "      <td>rattlesnake</td>\n",
       "      <td>Directed</td>\n",
       "    </tr>\n",
       "    <tr>\n",
       "      <th>1</th>\n",
       "      <td>elk</td>\n",
       "      <td>vulture</td>\n",
       "      <td>Directed</td>\n",
       "    </tr>\n",
       "    <tr>\n",
       "      <th>2</th>\n",
       "      <td>whale</td>\n",
       "      <td>moose</td>\n",
       "      <td>Directed</td>\n",
       "    </tr>\n",
       "  </tbody>\n",
       "</table>\n",
       "</div>"
      ],
      "text/plain": [
       "   From-node      To-node Type-link\n",
       "0  alligator  rattlesnake  Directed\n",
       "1        elk      vulture  Directed\n",
       "2      whale        moose  Directed"
      ]
     },
     "execution_count": 3,
     "metadata": {},
     "output_type": "execute_result"
    }
   ],
   "source": [
    "graph_data = {'From-node': [\"alligator\", \"elk\", \"whale\"],\n",
    "               'To-node': [\"rattlesnake\", \"vulture\", \"moose\"],\n",
    "               'Type-link': [\"Directed\", \"Directed\", \"Directed\"]}\n",
    "\n",
    "non_tabular_data = pd.DataFrame.from_dict(graph_data)\n",
    "\n",
    "non_tabular_data"
   ]
  },
  {
   "cell_type": "markdown",
   "metadata": {},
   "source": [
    "Yet, it is not always the case you can coerce non-tabular into tabular data. Not at least in a way that makes sense from a data analysis perspective. In this book, I am primarily concerned with tabular data, which is the reason why I won't touch the non-tabular case moving forward."
   ]
  },
  {
   "cell_type": "markdown",
   "metadata": {},
   "source": [
    "## Relational databases"
   ]
  },
  {
   "cell_type": "markdown",
   "metadata": {},
   "source": [
    "Relational databases (RLDB)are closely related to tabular data. The concept of a relational database model was introduced in 1970 by [Edgar F. Codd](https://en.wikipedia.org/wiki/Edgar_F._Codd), a researcher at IBM. \n",
    "\n",
    "We can think in relational databases as generalizations of tabular data objects: **as collections of data tables associated in some specific manner**, such that the user can operate on multiple tables at once. \n",
    "\n",
    "📓  **Relational database**: \n",
    ">Collections of data tables associated in some specific manner, such that the user can operate on multiple tables at once.\n",
    "\n",
    "Let's say that you do an additional survey among your friends, one about their food preferences. Since The previous one was about Anime, you do not want to put all the data in the same table. What you can do is to create a new table with the data collected from the new survey, and to define a way to associate the contents from both surveys. Since \"Name\" is in both tables, it is the logical option to use as a \"key\" to link both tables. Suppose your new table looks like this:"
   ]
  },
  {
   "cell_type": "code",
   "execution_count": 4,
   "metadata": {
    "execution": {
     "iopub.execute_input": "2020-07-30T21:48:51.197695Z",
     "iopub.status.busy": "2020-07-30T21:48:51.196884Z",
     "iopub.status.idle": "2020-07-30T21:48:51.202331Z",
     "shell.execute_reply": "2020-07-30T21:48:51.201916Z"
    }
   },
   "outputs": [
    {
     "data": {
      "text/html": [
       "<div>\n",
       "<style scoped>\n",
       "    .dataframe tbody tr th:only-of-type {\n",
       "        vertical-align: middle;\n",
       "    }\n",
       "\n",
       "    .dataframe tbody tr th {\n",
       "        vertical-align: top;\n",
       "    }\n",
       "\n",
       "    .dataframe thead th {\n",
       "        text-align: right;\n",
       "    }\n",
       "</style>\n",
       "<table border=\"1\" class=\"dataframe\">\n",
       "  <thead>\n",
       "    <tr style=\"text-align: right;\">\n",
       "      <th></th>\n",
       "      <th>Name</th>\n",
       "      <th>American-food</th>\n",
       "      <th>Mexican-food</th>\n",
       "      <th>Japanese-food</th>\n",
       "    </tr>\n",
       "  </thead>\n",
       "  <tbody>\n",
       "    <tr>\n",
       "      <th>0</th>\n",
       "      <td>Luis</td>\n",
       "      <td>6</td>\n",
       "      <td>8</td>\n",
       "      <td>9</td>\n",
       "    </tr>\n",
       "    <tr>\n",
       "      <th>1</th>\n",
       "      <td>Lulu</td>\n",
       "      <td>5</td>\n",
       "      <td>9</td>\n",
       "      <td>10</td>\n",
       "    </tr>\n",
       "    <tr>\n",
       "      <th>2</th>\n",
       "      <td>Roberto</td>\n",
       "      <td>9</td>\n",
       "      <td>8</td>\n",
       "      <td>8</td>\n",
       "    </tr>\n",
       "  </tbody>\n",
       "</table>\n",
       "</div>"
      ],
      "text/plain": [
       "      Name  American-food  Mexican-food  Japanese-food\n",
       "0     Luis              6             8              9\n",
       "1     Lulu              5             9             10\n",
       "2  Roberto              9             8              8"
      ]
     },
     "execution_count": 4,
     "metadata": {},
     "output_type": "execute_result"
    }
   ],
   "source": [
    "survey_data_2 = {'Name': [\"Luis\", \"Lulu\", \"Roberto\"],\n",
    "               'American-food': [6, 5, 9],\n",
    "               'Mexican-food': [8, 9, 8],\n",
    "               'Japanese-food': [9, 10, 8]}\n",
    "tabular_data_2 = pd.DataFrame.from_dict(survey_data_2)\n",
    "\n",
    "tabular_data_2"
   ]
  },
  {
   "cell_type": "markdown",
   "metadata": {},
   "source": [
    "Now we can merge the tables utilizing the name as \"key\":"
   ]
  },
  {
   "cell_type": "code",
   "execution_count": 5,
   "metadata": {
    "execution": {
     "iopub.execute_input": "2020-07-30T21:48:51.246111Z",
     "iopub.status.busy": "2020-07-30T21:48:51.221891Z",
     "iopub.status.idle": "2020-07-30T21:48:51.250535Z",
     "shell.execute_reply": "2020-07-30T21:48:51.250944Z"
    }
   },
   "outputs": [
    {
     "data": {
      "text/html": [
       "<div>\n",
       "<style scoped>\n",
       "    .dataframe tbody tr th:only-of-type {\n",
       "        vertical-align: middle;\n",
       "    }\n",
       "\n",
       "    .dataframe tbody tr th {\n",
       "        vertical-align: top;\n",
       "    }\n",
       "\n",
       "    .dataframe thead th {\n",
       "        text-align: right;\n",
       "    }\n",
       "</style>\n",
       "<table border=\"1\" class=\"dataframe\">\n",
       "  <thead>\n",
       "    <tr style=\"text-align: right;\">\n",
       "      <th></th>\n",
       "      <th>Name</th>\n",
       "      <th>Age</th>\n",
       "      <th>Naruto-season-1</th>\n",
       "      <th>Naruto-season-2</th>\n",
       "      <th>Naruto-season-3</th>\n",
       "      <th>Naruto-season-4</th>\n",
       "      <th>Naruto-season-5</th>\n",
       "      <th>American-food</th>\n",
       "      <th>Mexican-food</th>\n",
       "      <th>Japanese-food</th>\n",
       "    </tr>\n",
       "  </thead>\n",
       "  <tbody>\n",
       "    <tr>\n",
       "      <th>0</th>\n",
       "      <td>Luis</td>\n",
       "      <td>19</td>\n",
       "      <td>6</td>\n",
       "      <td>7</td>\n",
       "      <td>7</td>\n",
       "      <td>6</td>\n",
       "      <td>8</td>\n",
       "      <td>6</td>\n",
       "      <td>8</td>\n",
       "      <td>9</td>\n",
       "    </tr>\n",
       "    <tr>\n",
       "      <th>1</th>\n",
       "      <td>Lulu</td>\n",
       "      <td>32</td>\n",
       "      <td>8</td>\n",
       "      <td>3</td>\n",
       "      <td>6</td>\n",
       "      <td>9</td>\n",
       "      <td>9</td>\n",
       "      <td>5</td>\n",
       "      <td>9</td>\n",
       "      <td>10</td>\n",
       "    </tr>\n",
       "    <tr>\n",
       "      <th>2</th>\n",
       "      <td>Roberto</td>\n",
       "      <td>27</td>\n",
       "      <td>8</td>\n",
       "      <td>7</td>\n",
       "      <td>5</td>\n",
       "      <td>10</td>\n",
       "      <td>9</td>\n",
       "      <td>9</td>\n",
       "      <td>8</td>\n",
       "      <td>8</td>\n",
       "    </tr>\n",
       "  </tbody>\n",
       "</table>\n",
       "</div>"
      ],
      "text/plain": [
       "      Name  Age  Naruto-season-1  Naruto-season-2  Naruto-season-3  \\\n",
       "0     Luis   19                6                7                7   \n",
       "1     Lulu   32                8                3                6   \n",
       "2  Roberto   27                8                7                5   \n",
       "\n",
       "   Naruto-season-4  Naruto-season-5  American-food  Mexican-food  \\\n",
       "0                6                8              6             8   \n",
       "1                9                9              5             9   \n",
       "2               10                9              9             8   \n",
       "\n",
       "   Japanese-food  \n",
       "0              9  \n",
       "1             10  \n",
       "2              8  "
      ]
     },
     "execution_count": 5,
     "metadata": {},
     "output_type": "execute_result"
    }
   ],
   "source": [
    "tabular_data.merge(tabular_data_2, on='Name')"
   ]
  },
  {
   "cell_type": "markdown",
   "metadata": {},
   "source": [
    "The traditional way to communicate with relational databases is with [SQL](https://en.wikipedia.org/wiki/SQL) or Structured Query Language. There are many versions of SQL around, but they are all pretty similar. The `pandas` library is roughly based on SQL, and it does contain many SQL-like functions to manipulate data. In my experience, relational databases and SQL are the standard tools to deal with enterprise-level data systems, and `pandas` (and R, SPSS, and others) are most commonly used in research contexts and to prototype enterprise-level solutions. \n",
    "\n",
    "If you want to learn more about relational databases and data management systems, you can read the original Codd's paper [here](https://www.seas.upenn.edu/~zives/03f/cis550/codd.pdf)"
   ]
  },
  {
   "cell_type": "markdown",
   "metadata": {},
   "source": [
    "## Anatomy of a data table"
   ]
  },
  {
   "cell_type": "markdown",
   "metadata": {},
   "source": [
    "Tables will be the object with which we will interact the most. Sometimes is easier to remember concepts by associating them with graphical displays. Below you can find a chart illustrating how each section of a table is called on different contexts. "
   ]
  },
  {
   "cell_type": "markdown",
   "metadata": {},
   "source": [
    "![](./images/anatomy-table.svg)"
   ]
  },
  {
   "cell_type": "markdown",
   "metadata": {},
   "source": [
    "## Time-series data"
   ]
  },
  {
   "cell_type": "markdown",
   "metadata": {},
   "source": [
    "Fun fact: `pandas` derives its name from \"**pa**nel **da**ta **s**ystem\" as [its original goal](https://google-code-archive-downloads.storage.googleapis.com/v2/code.google.com/pandas/nyfpug.pdf) was developing a library to primarily manipulate such kind of data. Panel data happens to be an example of time series data as well. In simple terms, time series are **records collected sequentially over time that usually refer to the same entities** (e.g., people, cities, factories, etc). \n",
    "\n",
    "\n",
    "📓  **Time-series**: \n",
    "> Records collected sequentially over time that usually refers to the same entities (e.g., people, cities, factories, etc).\n",
    "\n",
    "Examples of time series data:\n",
    "\n",
    "- Monthly hours of sunlight in a city\n",
    "- Weekly sales for a company in a decade\n",
    "- Electrical brain activity recordings during a psychological test\n",
    "- Frequency of earthquakes in a country over time\n",
    "- Panel survey of political preferences \n",
    "\n",
    "Any instance where you have repeated measures of some entity will form a time series. A key aspect of this type of data is the dependency between measurements: your political preferences this year will likely affect your political preferences next year. \n",
    "\n",
    "Suppose you run a small online store and you keep records of the sales of your two main products: \"stickers\" and \"mugs\".  This is how your dataset may look in `pandas`:"
   ]
  },
  {
   "cell_type": "code",
   "execution_count": 6,
   "metadata": {
    "execution": {
     "iopub.execute_input": "2020-07-30T21:48:51.261954Z",
     "iopub.status.busy": "2020-07-30T21:48:51.261282Z",
     "iopub.status.idle": "2020-07-30T21:48:51.266121Z",
     "shell.execute_reply": "2020-07-30T21:48:51.266460Z"
    }
   },
   "outputs": [
    {
     "data": {
      "text/html": [
       "<div>\n",
       "<style scoped>\n",
       "    .dataframe tbody tr th:only-of-type {\n",
       "        vertical-align: middle;\n",
       "    }\n",
       "\n",
       "    .dataframe tbody tr th {\n",
       "        vertical-align: top;\n",
       "    }\n",
       "\n",
       "    .dataframe thead th {\n",
       "        text-align: right;\n",
       "    }\n",
       "</style>\n",
       "<table border=\"1\" class=\"dataframe\">\n",
       "  <thead>\n",
       "    <tr style=\"text-align: right;\">\n",
       "      <th></th>\n",
       "      <th>date</th>\n",
       "      <th>total-sales</th>\n",
       "      <th>stickers-sales</th>\n",
       "      <th>mugs-sales</th>\n",
       "    </tr>\n",
       "  </thead>\n",
       "  <tbody>\n",
       "    <tr>\n",
       "      <th>0</th>\n",
       "      <td>2020-01-15</td>\n",
       "      <td>1000</td>\n",
       "      <td>600</td>\n",
       "      <td>400</td>\n",
       "    </tr>\n",
       "    <tr>\n",
       "      <th>1</th>\n",
       "      <td>2020-02-15</td>\n",
       "      <td>1010</td>\n",
       "      <td>605</td>\n",
       "      <td>405</td>\n",
       "    </tr>\n",
       "    <tr>\n",
       "      <th>2</th>\n",
       "      <td>2020-03-15</td>\n",
       "      <td>900</td>\n",
       "      <td>500</td>\n",
       "      <td>400</td>\n",
       "    </tr>\n",
       "    <tr>\n",
       "      <th>3</th>\n",
       "      <td>2020-04-15</td>\n",
       "      <td>500</td>\n",
       "      <td>100</td>\n",
       "      <td>400</td>\n",
       "    </tr>\n",
       "    <tr>\n",
       "      <th>4</th>\n",
       "      <td>2020-05-15</td>\n",
       "      <td>550</td>\n",
       "      <td>200</td>\n",
       "      <td>350</td>\n",
       "    </tr>\n",
       "  </tbody>\n",
       "</table>\n",
       "</div>"
      ],
      "text/plain": [
       "         date  total-sales  stickers-sales  mugs-sales\n",
       "0  2020-01-15         1000             600         400\n",
       "1  2020-02-15         1010             605         405\n",
       "2  2020-03-15          900             500         400\n",
       "3  2020-04-15          500             100         400\n",
       "4  2020-05-15          550             200         350"
      ]
     },
     "execution_count": 6,
     "metadata": {},
     "output_type": "execute_result"
    }
   ],
   "source": [
    "time_series_data = {'date': [\"2020-01-15\", \"2020-02-15\", \"2020-03-15\", \"2020-04-15\", \"2020-05-15\"],\n",
    "                    'total-sales': [1000, 1010, 900, 500, 550],\n",
    "                    'stickers-sales': [600, 605, 500, 100, 200],\n",
    "                    'mugs-sales': [400, 405, 400, 400, 350]}\n",
    "\n",
    "time_series = pd.DataFrame.from_dict(time_series_data)\n",
    "\n",
    "time_series"
   ]
  },
  {
   "cell_type": "markdown",
   "metadata": {},
   "source": [
    "In this case, the rows represent \"dates\" as object of measurement, and the columns the type of sale. \n",
    "\n",
    "An alternative way to store time series data is by flipping the columns and rows as:"
   ]
  },
  {
   "cell_type": "code",
   "execution_count": 7,
   "metadata": {
    "execution": {
     "iopub.execute_input": "2020-07-30T21:48:51.277339Z",
     "iopub.status.busy": "2020-07-30T21:48:51.276922Z",
     "iopub.status.idle": "2020-07-30T21:48:51.282587Z",
     "shell.execute_reply": "2020-07-30T21:48:51.282032Z"
    }
   },
   "outputs": [
    {
     "data": {
      "text/html": [
       "<div>\n",
       "<style scoped>\n",
       "    .dataframe tbody tr th:only-of-type {\n",
       "        vertical-align: middle;\n",
       "    }\n",
       "\n",
       "    .dataframe tbody tr th {\n",
       "        vertical-align: top;\n",
       "    }\n",
       "\n",
       "    .dataframe thead th {\n",
       "        text-align: right;\n",
       "    }\n",
       "</style>\n",
       "<table border=\"1\" class=\"dataframe\">\n",
       "  <thead>\n",
       "    <tr style=\"text-align: right;\">\n",
       "      <th></th>\n",
       "      <th>0</th>\n",
       "      <th>1</th>\n",
       "      <th>2</th>\n",
       "      <th>3</th>\n",
       "      <th>4</th>\n",
       "    </tr>\n",
       "  </thead>\n",
       "  <tbody>\n",
       "    <tr>\n",
       "      <th>date</th>\n",
       "      <td>2020-01-15</td>\n",
       "      <td>2020-02-15</td>\n",
       "      <td>2020-03-15</td>\n",
       "      <td>2020-04-15</td>\n",
       "      <td>2020-05-15</td>\n",
       "    </tr>\n",
       "    <tr>\n",
       "      <th>total-sales</th>\n",
       "      <td>1000</td>\n",
       "      <td>1010</td>\n",
       "      <td>900</td>\n",
       "      <td>500</td>\n",
       "      <td>550</td>\n",
       "    </tr>\n",
       "    <tr>\n",
       "      <th>stickers-sales</th>\n",
       "      <td>600</td>\n",
       "      <td>605</td>\n",
       "      <td>500</td>\n",
       "      <td>100</td>\n",
       "      <td>200</td>\n",
       "    </tr>\n",
       "    <tr>\n",
       "      <th>mugs-sales</th>\n",
       "      <td>400</td>\n",
       "      <td>405</td>\n",
       "      <td>400</td>\n",
       "      <td>400</td>\n",
       "      <td>350</td>\n",
       "    </tr>\n",
       "  </tbody>\n",
       "</table>\n",
       "</div>"
      ],
      "text/plain": [
       "                         0           1           2           3           4\n",
       "date            2020-01-15  2020-02-15  2020-03-15  2020-04-15  2020-05-15\n",
       "total-sales           1000        1010         900         500         550\n",
       "stickers-sales         600         605         500         100         200\n",
       "mugs-sales             400         405         400         400         350"
      ]
     },
     "execution_count": 7,
     "metadata": {},
     "output_type": "execute_result"
    }
   ],
   "source": [
    "time_series.T"
   ]
  },
  {
   "cell_type": "markdown",
   "metadata": {},
   "source": [
    "Now the rows represent the item and the columns the dates. What data organization scheme is better to use will depend on your problem at hand."
   ]
  },
  {
   "cell_type": "markdown",
   "metadata": {},
   "source": [
    "## Types of variables"
   ]
  },
  {
   "cell_type": "markdown",
   "metadata": {},
   "source": [
    "During my education, I have had the opportunity to learn how sociologists, economists, psychologists, neuroscientists, statisticians, and machine learning experts denominate variables or features. As you can imagine, they do not agree on how to name things, as they probably do not talk to each other all that much. What I learned is to better acquire a vocabulary as eclectic as possible to communicate effectively depending on the context. \n",
    "\n",
    "In this section, I group and provide brief definitions of the most common ways to name variables according to the following criteria: (1) **the \"nature\" of the entity** to be measured or of **the type measurement**, (2) **their role in causal processes**.  "
   ]
  },
  {
   "cell_type": "markdown",
   "metadata": {},
   "source": [
    "### According to measurement type"
   ]
  },
  {
   "cell_type": "markdown",
   "metadata": {},
   "source": [
    "<style type=\"text/css\">\n",
    ".tg  {border-collapse:collapse;border-color:#aaa;border-spacing:0;}\n",
    ".tg td{background-color:#fff;border-color:#aaa;border-style:solid;border-width:1px;color:#333;\n",
    "  font-family:Arial, sans-serif;font-size:14px;overflow:hidden;padding:10px 5px;word-break:normal;}\n",
    ".tg th{background-color:#f38630;border-color:#aaa;border-style:solid;border-width:1px;color:#fff;\n",
    "  font-family:Arial, sans-serif;font-size:14px;font-weight:normal;overflow:hidden;padding:10px 5px;word-break:normal;}\n",
    ".tg .tg-za9b{background-color:#f97474;border-color:inherit;font-weight:bold;text-align:left;vertical-align:top}\n",
    ".tg .tg-0pky{border-color:inherit;text-align:left;vertical-align:top}\n",
    "@media screen and (max-width: 767px) {.tg {width: auto !important;}.tg col {width: auto !important;}.tg-wrap {overflow-x: auto;-webkit-overflow-scrolling: touch;}}</style>\n",
    "<div class=\"tg-wrap\"><table class=\"tg\">\n",
    "<tbody>\n",
    "  <tr>\n",
    "    <td class=\"tg-za9b\">Variable type</td>\n",
    "    <td class=\"tg-za9b\">Definition</td>\n",
    "    <td class=\"tg-za9b\">Context</td>\n",
    "    <td class=\"tg-za9b\">Example</td>\n",
    "  </tr>\n",
    "  <tr>\n",
    "    <td class=\"tg-0pky\">Quantitative</td>\n",
    "    <td class=\"tg-0pky\">General term refering to any kind of numerical variable, either in the real numbers or in the natural numbers</td>\n",
    "    <td class=\"tg-0pky\">General</td>\n",
    "    <td class=\"tg-0pky\">Income, Years of education</td>\n",
    "  </tr>\n",
    "  <tr>\n",
    "    <td class=\"tg-0pky\">Numerical</td>\n",
    "    <td class=\"tg-0pky\">General term refering to any kind of numerical variable, either in the real numbers or in the natural numbers</td>\n",
    "    <td class=\"tg-0pky\">General</td>\n",
    "    <td class=\"tg-0pky\">Income, Speed</td>\n",
    "  </tr>\n",
    "  <tr>\n",
    "    <td class=\"tg-0pky\">Continuous</td>\n",
    "    <td class=\"tg-0pky\">Variable that can take set of real values</td>\n",
    "    <td class=\"tg-0pky\">General</td>\n",
    "    <td class=\"tg-0pky\">Money, Temperature</td>\n",
    "  </tr>\n",
    "  <tr>\n",
    "    <td class=\"tg-0pky\">Ordinal</td>\n",
    "    <td class=\"tg-0pky\">Variable whose values follow a meaningful order but the gaps between values cannot be quantified</td>\n",
    "    <td class=\"tg-0pky\">Mostly statistics</td>\n",
    "    <td class=\"tg-0pky\">Social class, Educational levels</td>\n",
    "  </tr>\n",
    "  <tr>\n",
    "    <td class=\"tg-0pky\">Interval</td>\n",
    "    <td class=\"tg-0pky\">Variable whose values follow a meaningful order and where differences betwteen values are meaningful</td>\n",
    "    <td class=\"tg-0pky\">Mostly statistics</td>\n",
    "    <td class=\"tg-0pky\">Age range, Income bracket</td>\n",
    "  </tr>\n",
    "  <tr>\n",
    "    <td class=\"tg-0pky\">Ratio</td>\n",
    "    <td class=\"tg-0pky\">Variable whose values follow a meaningful order and where differences betwteen values are mathematically meaningful</td>\n",
    "    <td class=\"tg-0pky\">Mostly statistics</td>\n",
    "    <td class=\"tg-0pky\">Speed, Body mass index</td>\n",
    "  </tr>\n",
    "  <tr>\n",
    "    <td class=\"tg-0pky\">Int</td>\n",
    "    <td class=\"tg-0pky\">Software representation of variables whose values belong to the natural numbers</td>\n",
    "    <td class=\"tg-0pky\">Programming, Machine learning</td>\n",
    "    <td class=\"tg-0pky\">Any natural number</td>\n",
    "  </tr>\n",
    "  <tr>\n",
    "    <td class=\"tg-0pky\">Floating point</td>\n",
    "    <td class=\"tg-0pky\">Software representation of variables whose values belong to the real numbers</td>\n",
    "    <td class=\"tg-0pky\">Programming, Machine learning</td>\n",
    "    <td class=\"tg-0pky\">Any real number</td>\n",
    "  </tr>\n",
    "  <tr>\n",
    "    <td class=\"tg-0pky\">Complex</td>\n",
    "    <td class=\"tg-0pky\">Software representation of variables whose values belong to the complex numbers</td>\n",
    "    <td class=\"tg-0pky\">Programming, Machine learning</td>\n",
    "    <td class=\"tg-0pky\">Any complex number</td>\n",
    "  </tr>\n",
    "  <tr>\n",
    "    <td class=\"tg-0pky\">Discrete</td>\n",
    "    <td class=\"tg-0pky\">Variable where gapst between numbers have the same magnitud, as in natural numbers</td>\n",
    "    <td class=\"tg-0pky\">General</td>\n",
    "    <td class=\"tg-0pky\">Population, Number of schools</td>\n",
    "  </tr>\n",
    "  <tr>\n",
    "    <td class=\"tg-0pky\">Qualitative</td>\n",
    "    <td class=\"tg-0pky\">General term to refert to variables whose values belong to a predefine set of categories and the where the ordering is not meaningful</td>\n",
    "    <td class=\"tg-0pky\">General</td>\n",
    "    <td class=\"tg-0pky\">Ethnicity, Nationality, True/False</td>\n",
    "  </tr>\n",
    "  <tr>\n",
    "    <td class=\"tg-0pky\">Categorical</td>\n",
    "    <td class=\"tg-0pky\">General term to refert to variables whose values belong to a predefine set of categories and the where the ordering is not meaningful</td>\n",
    "    <td class=\"tg-0pky\">General</td>\n",
    "    <td class=\"tg-0pky\">Ethnicity, Religion</td>\n",
    "  </tr>\n",
    "  <tr>\n",
    "    <td class=\"tg-0pky\">Nominal</td>\n",
    "    <td class=\"tg-0pky\">A type of categorical variable whose values belong to a predefine set of categories and the where the ordering is not meaningful</td>\n",
    "    <td class=\"tg-0pky\">Mostly statistics</td>\n",
    "    <td class=\"tg-0pky\">Nationality, Political affiliation</td>\n",
    "  </tr>\n",
    "  <tr>\n",
    "    <td class=\"tg-0pky\">Binary</td>\n",
    "    <td class=\"tg-0pky\">A type of categorical variable whose values are restricted to two categories and the where the ordering is not meaningful</td>\n",
    "    <td class=\"tg-0pky\">General</td>\n",
    "    <td class=\"tg-0pky\">True/False, Sold/Not sold</td>\n",
    "  </tr>\n",
    "  <tr>\n",
    "    <td class=\"tg-0pky\">Dummy</td>\n",
    "    <td class=\"tg-0pky\">An alternative way to refer to binary variables</td>\n",
    "    <td class=\"tg-0pky\">Mostly statistics</td>\n",
    "    <td class=\"tg-0pky\">True/False, Sold/Not sold</td>\n",
    "  </tr>\n",
    "</tbody>\n",
    "</table></div>"
   ]
  },
  {
   "cell_type": "markdown",
   "metadata": {},
   "source": [
    "### According to their role in causal processes"
   ]
  },
  {
   "cell_type": "markdown",
   "metadata": {},
   "source": [
    "<style type=\"text/css\">\n",
    ".tg  {border-collapse:collapse;border-color:#aaa;border-spacing:0;}\n",
    ".tg td{background-color:#fff;border-color:#aaa;border-style:solid;border-width:0px;color:#333;\n",
    "  font-family:Arial, sans-serif;font-size:14px;overflow:hidden;padding:10px 5px;word-break:normal;}\n",
    ".tg th{background-color:#f38630;border-color:#aaa;border-style:solid;border-width:0px;color:#fff;\n",
    "  font-family:Arial, sans-serif;font-size:14px;font-weight:normal;overflow:hidden;padding:10px 5px;word-break:normal;}\n",
    ".tg .tg-6zme{background-color:#f97474;font-weight:bold;text-align:left;vertical-align:top}\n",
    ".tg .tg-zzh6{background-color:#f97474;border-color:#f97474;font-weight:bold;text-align:left;vertical-align:top}\n",
    ".tg .tg-0lax{text-align:left;vertical-align:top}\n",
    "@media screen and (max-width: 767px) {.tg {width: auto !important;}.tg col {width: auto !important;}.tg-wrap {overflow-x: auto;-webkit-overflow-scrolling: touch;}}</style>\n",
    "<div class=\"tg-wrap\"><table class=\"tg\">\n",
    "<tbody>\n",
    "  <tr>\n",
    "    <td class=\"tg-6zme\">Variable type</td>\n",
    "    <td class=\"tg-6zme\">Definition</td>\n",
    "    <td class=\"tg-zzh6\">Context</td>\n",
    "    <td class=\"tg-6zme\">Example</td>\n",
    "  </tr>\n",
    "  <tr>\n",
    "    <td class=\"tg-0lax\">Dependent</td>\n",
    "    <td class=\"tg-0lax\">Variable whose values depend on the values or \"impact\" of another variable</td>\n",
    "    <td class=\"tg-0lax\">General, Statistics</td>\n",
    "    <td class=\"tg-0lax\">Raise of temerature (dependent) in response to&nbsp;&nbsp;greenhouse gases emisions</td>\n",
    "  </tr>\n",
    "  <tr>\n",
    "    <td class=\"tg-0lax\">Independent</td>\n",
    "    <td class=\"tg-0lax\">Variable whose values \"impact\" of another variable and that are independent of any other variable in a model</td>\n",
    "    <td class=\"tg-0lax\">General, Statistics</td>\n",
    "    <td class=\"tg-0lax\">Raise of temerature (dependent) in response to&nbsp;&nbsp;greenhouse gases emisions (independent)</td>\n",
    "  </tr>\n",
    "  <tr>\n",
    "    <td class=\"tg-0lax\">Endogenous</td>\n",
    "    <td class=\"tg-0lax\">Variable whose values are determined outside a model. Similar to dependent variable.</td>\n",
    "    <td class=\"tg-0lax\">Econometrics</td>\n",
    "    <td class=\"tg-0lax\">Stock market prices and expectations among investors in the stock market</td>\n",
    "  </tr>\n",
    "  <tr>\n",
    "    <td class=\"tg-0lax\">Exogenous</td>\n",
    "    <td class=\"tg-0lax\">Variable whose values are determined inside a model. Similar to independent variable.</td>\n",
    "    <td class=\"tg-0lax\">Econometrics</td>\n",
    "    <td class=\"tg-0lax\">COVID-10 pandemic impacting the stock market</td>\n",
    "  </tr>\n",
    "  <tr>\n",
    "    <td class=\"tg-0lax\">Experimental</td>\n",
    "    <td class=\"tg-0lax\">Variables whose values are \"exogenous\" and/or \"independent' and that aim to causaly impact some process</td>\n",
    "    <td class=\"tg-0lax\">Experimental research</td>\n",
    "    <td class=\"tg-0lax\">COVID-19 vaccine in a clinical trial</td>\n",
    "  </tr>\n",
    "  <tr>\n",
    "    <td class=\"tg-0lax\">Intervention</td>\n",
    "    <td class=\"tg-0lax\">Variables whose values are \"exogenous\" and/or \"independent' and that aim to causaly impact some process</td>\n",
    "    <td class=\"tg-0lax\">Experimental research</td>\n",
    "    <td class=\"tg-0lax\">COVID-19 vaccine in a clinical trial</td>\n",
    "  </tr>\n",
    "  <tr>\n",
    "    <td class=\"tg-0lax\">Control</td>\n",
    "    <td class=\"tg-0lax\">Variable that is measured in a study but that is not the main focus of interst, usually with the purpose of eliminate its influence as a causal factor</td>\n",
    "    <td class=\"tg-0lax\">Experimental research</td>\n",
    "    <td class=\"tg-0lax\">Age and gender of participants in a clinical trial</td>\n",
    "  </tr>\n",
    "  <tr>\n",
    "    <td class=\"tg-0lax\">Placebo</td>\n",
    "    <td class=\"tg-0lax\">Variable intendent to not impact the primary outcome of interest in a study</td>\n",
    "    <td class=\"tg-0lax\">Experimental research, Medical research</td>\n",
    "    <td class=\"tg-0lax\">Sugar pill administered to participants in the control group</td>\n",
    "  </tr>\n",
    "  <tr>\n",
    "    <td class=\"tg-0lax\">Extraneous</td>\n",
    "    <td class=\"tg-0lax\">Variables that may inadvertently impact the outcome of process or experiment</td>\n",
    "    <td class=\"tg-0lax\">General</td>\n",
    "    <td class=\"tg-0lax\">Age and gender of participants in a clinical trial</td>\n",
    "  </tr>\n",
    "  <tr>\n",
    "    <td class=\"tg-0lax\">Confounding</td>\n",
    "    <td class=\"tg-0lax\">Variables that may inadvertently impact the outcome of process or experiment</td>\n",
    "    <td class=\"tg-0lax\">General, Statistics</td>\n",
    "    <td class=\"tg-0lax\">Age and gender of participants in a clinical trial</td>\n",
    "  </tr>\n",
    "  <tr>\n",
    "    <td class=\"tg-0lax\">Mediator</td>\n",
    "    <td class=\"tg-0lax\">Variable that links or intervene in the relationship between two or more variables</td>\n",
    "    <td class=\"tg-0lax\">Statistics</td>\n",
    "    <td class=\"tg-0lax\">SES as mediator of ZIP code and educational outcomes</td>\n",
    "  </tr>\n",
    "  <tr>\n",
    "    <td class=\"tg-0lax\">Moderator</td>\n",
    "    <td class=\"tg-0lax\">Variable that amplifies or reduces the impact of an independent variable ontro a dependent vriable</td>\n",
    "    <td class=\"tg-0lax\">Statistics</td>\n",
    "    <td class=\"tg-0lax\">Teachers (moderator) improving students learning outcomes</td>\n",
    "  </tr>\n",
    "</tbody>\n",
    "</table></div>"
   ]
  },
  {
   "cell_type": "markdown",
   "metadata": {},
   "source": [
    "## Descriptive statistics"
   ]
  },
  {
   "cell_type": "markdown",
   "metadata": {},
   "source": [
    "There is little you can learn from a spreadsheet by just looking at it as a grid of values. Descriptive statistics are **mathematical transformations that help to characterize different aspects of a dataset**. They are like mathematical lenses that make visible aspects of the data that would be otherwise invisible for the analyst. \n",
    "\n",
    "📓  **Descriptive statistics**: \n",
    "> Mathematical transformations that help to characterize different aspects of a dataset.\n",
    "\n",
    "Descriptive statistics can be grouped into measures of central tendency, measures of dispersion, and indicators of the shape of a distribution. "
   ]
  },
  {
   "cell_type": "markdown",
   "metadata": {},
   "source": [
    "## Inferential statistics"
   ]
  },
  {
   "cell_type": "markdown",
   "metadata": {},
   "source": [
    "We often want to go beyond characterizing a dataset. Inferential statistics are **mathematical procedures that allow for testing hypotheses and draw conclusions from data, if and only if a series of assumptions about the data are met**.\n",
    "\n",
    "📓  **Descriptive statistics**: \n",
    "> Mathematical procedures that allow for testing hypotheses and draw conclusions from data, if and only if a series of assumptions about the data are met.\n",
    "\n",
    "This book is not concerned with hypothesis testing or statistical inference. Yet, if you want to embark on the study of statistical inference, a strong foundation is descriptive data analysis is essential.\n"
   ]
  },
  {
   "cell_type": "markdown",
   "metadata": {},
   "source": [
    "## Frequency table"
   ]
  },
  {
   "cell_type": "markdown",
   "metadata": {},
   "source": [
    "One of the simplest ways to look at a dataset is with a frequency table. Frequency tables are a **method to organize values by the number of occurrences of each instance within a variable in a dataset**. It is essentially counting in an organized manner. \n",
    "\n",
    "📓  **Frequency table**: \n",
    "> Method to organize data by the number of occurrences of each instance within a variable in a dataset\n",
    "\n",
    "Take the following example:"
   ]
  },
  {
   "cell_type": "code",
   "execution_count": 8,
   "metadata": {
    "execution": {
     "iopub.execute_input": "2020-07-30T21:48:51.294422Z",
     "iopub.status.busy": "2020-07-30T21:48:51.287914Z",
     "iopub.status.idle": "2020-07-30T21:48:51.300474Z",
     "shell.execute_reply": "2020-07-30T21:48:51.300994Z"
    }
   },
   "outputs": [
    {
     "data": {
      "text/plain": [
       "3    5\n",
       "1    4\n",
       "2    3\n",
       "7    2\n",
       "4    2\n",
       "Name: age, dtype: int64"
      ]
     },
     "execution_count": 8,
     "metadata": {},
     "output_type": "execute_result"
    }
   ],
   "source": [
    "frequencies = {'age': [1, 2, 3, 1, 2, 3, 4, 7, 2, 1, 1, 3, 4, 7, 3, 3]}\n",
    "\n",
    "freq_table = pd.DataFrame.from_dict(frequencies)\n",
    "\n",
    "freq_table['age'].value_counts()"
   ]
  },
  {
   "cell_type": "markdown",
   "metadata": {},
   "source": [
    "The frequency table above displays the number of times a given age (left column) is repeated (right column) in the dataset, from the more frequent (age 3) to the least frequent (ages 7 and 4). We can display this graphically with a bar chart:"
   ]
  },
  {
   "cell_type": "code",
   "execution_count": 9,
   "metadata": {
    "execution": {
     "iopub.execute_input": "2020-07-30T21:48:51.305853Z",
     "iopub.status.busy": "2020-07-30T21:48:51.305308Z",
     "iopub.status.idle": "2020-07-30T21:48:52.425171Z",
     "shell.execute_reply": "2020-07-30T21:48:52.425482Z"
    }
   },
   "outputs": [
    {
     "data": {
      "image/png": "[encoded data removed]",
      "text/plain": [
       "<Figure size 432x288 with 1 Axes>"
      ]
     },
     "metadata": {
      "filenames": {
       "image/png": "/mnt/c/Users/pablo/Desktop/projects/davpython/davpython.github.io/_build/jupyter_execute/2-basic-concepts_40_0.png"
      },
      "image/png": {
       "height": 245,
       "width": 362
      },
      "needs_background": "light"
     },
     "output_type": "display_data"
    }
   ],
   "source": [
    "freq_table['age'].value_counts(sort=False).plot.bar();"
   ]
  },
  {
   "cell_type": "markdown",
   "metadata": {},
   "source": [
    "## Contingency table"
   ]
  },
  {
   "cell_type": "markdown",
   "metadata": {},
   "source": [
    "Frequency tables are good to visualize univariate distributions or single variables. To look at the joint frequency of two variables, we can use a contingency table which is a method to organize values by the number of occurrences of each instance among pairs of variables.\n",
    "\n",
    "📓  **Contingency table**: \n",
    "> Method to organize values by the number of occurrences of each instance among pairs of variables.\n",
    "\n",
    "Take for instance:"
   ]
  },
  {
   "cell_type": "code",
   "execution_count": 10,
   "metadata": {
    "execution": {
     "iopub.execute_input": "2020-07-30T21:48:52.457443Z",
     "iopub.status.busy": "2020-07-30T21:48:52.454885Z",
     "iopub.status.idle": "2020-07-30T21:48:52.473109Z",
     "shell.execute_reply": "2020-07-30T21:48:52.472688Z"
    }
   },
   "outputs": [
    {
     "data": {
      "text/html": [
       "<div>\n",
       "<style scoped>\n",
       "    .dataframe tbody tr th:only-of-type {\n",
       "        vertical-align: middle;\n",
       "    }\n",
       "\n",
       "    .dataframe tbody tr th {\n",
       "        vertical-align: top;\n",
       "    }\n",
       "\n",
       "    .dataframe thead th {\n",
       "        text-align: right;\n",
       "    }\n",
       "</style>\n",
       "<table border=\"1\" class=\"dataframe\">\n",
       "  <thead>\n",
       "    <tr style=\"text-align: right;\">\n",
       "      <th>smoking</th>\n",
       "      <th>No</th>\n",
       "      <th>Yes</th>\n",
       "    </tr>\n",
       "    <tr>\n",
       "      <th>nationality</th>\n",
       "      <th></th>\n",
       "      <th></th>\n",
       "    </tr>\n",
       "  </thead>\n",
       "  <tbody>\n",
       "    <tr>\n",
       "      <th>Japanese</th>\n",
       "      <td>2</td>\n",
       "      <td>4</td>\n",
       "    </tr>\n",
       "    <tr>\n",
       "      <th>Uruguayo</th>\n",
       "      <td>5</td>\n",
       "      <td>1</td>\n",
       "    </tr>\n",
       "  </tbody>\n",
       "</table>\n",
       "</div>"
      ],
      "text/plain": [
       "smoking      No  Yes\n",
       "nationality         \n",
       "Japanese      2    4\n",
       "Uruguayo      5    1"
      ]
     },
     "execution_count": 10,
     "metadata": {},
     "output_type": "execute_result"
    }
   ],
   "source": [
    "cross_frequencies = {'smoking': [\"Yes\", \"No\", \"Yes\", \"Yes\", \"Yes\", \"No\",\n",
    "                                 \"No\", \"No\", \"Yes\", \"No\", \"No\", \"No\"],\n",
    "                     'nationality': [\"Japanese\", \"Uruguayo\", \"Japanese\",\n",
    "                                    \"Japanese\", \"Japanese\", \"Japanese\",\n",
    "                                    \"Uruguayo\", \"Uruguayo\", \"Uruguayo\",\n",
    "                                    \"Uruguayo\", \"Uruguayo\", \"Japanese\"]}\n",
    "\n",
    "cross_table = pd.DataFrame.from_dict(cross_frequencies)\n",
    "\n",
    "pd.crosstab(cross_table['nationality'], cross_table['smoking'])"
   ]
  },
  {
   "cell_type": "markdown",
   "metadata": {},
   "source": [
    "The contingency above shows the number of times an individual declared to smoke according to their nationality. A simple way to represent contingency tables graphically is with stacked bars:"
   ]
  },
  {
   "cell_type": "code",
   "execution_count": 11,
   "metadata": {
    "execution": {
     "iopub.execute_input": "2020-07-30T21:48:52.488978Z",
     "iopub.status.busy": "2020-07-30T21:48:52.485961Z",
     "iopub.status.idle": "2020-07-30T21:48:52.802542Z",
     "shell.execute_reply": "2020-07-30T21:48:52.802101Z"
    }
   },
   "outputs": [
    {
     "data": {
      "image/png": "[encoded data removed]",
      "text/plain": [
       "<Figure size 432x288 with 1 Axes>"
      ]
     },
     "metadata": {
      "filenames": {
       "image/png": "/mnt/c/Users/pablo/Desktop/projects/davpython/davpython.github.io/_build/jupyter_execute/2-basic-concepts_45_0.png"
      },
      "image/png": {
       "height": 301,
       "width": 362
      },
      "needs_background": "light"
     },
     "output_type": "display_data"
    }
   ],
   "source": [
    "pd.crosstab(cross_table['nationality'], cross_table['smoking']).plot.bar(stacked=True);"
   ]
  },
  {
   "cell_type": "markdown",
   "metadata": {},
   "source": [
    "## Percentiles and quartiles"
   ]
  },
  {
   "cell_type": "markdown",
   "metadata": {},
   "source": [
    "There are cases where dividing the data into subgroups is useful, for instance, you may want to know what values are part of the first 25% of the data. Percentiles are **numbers indicating the value of a variable below which a certain percentage of the data belongs**. \n",
    "\n",
    "📓  **Percentiles**: \n",
    "> Numbers indicating the value of a variable below which a certain percentage of the data belongs.\n",
    "\n",
    "Quartiles are an extension of percentiles, indicating the **values that mark the 25%, 50%, and 75% percentiles in a given variable**. They are called quartiles because such values divide the data into fourth parts or quarts. \n",
    "\n",
    "📓  **Percentiles**: \n",
    "> Values that mark the 25%, 50%, and 75% percentiles in a given variable.\n",
    "\n",
    "Percentiles and quantiles will come in handy to understand data distribution and the variability of a dataset."
   ]
  },
  {
   "cell_type": "markdown",
   "metadata": {},
   "source": [
    "## Data distribution"
   ]
  },
  {
   "cell_type": "markdown",
   "metadata": {},
   "source": [
    "Data distribution refers to **the shape that a variable take when put together in a graphical representation like a histogram**. Histograms are essentially bar plots with bars arranged side-by-side and where each bar can vary regarding the range of data that captures.\n",
    "\n",
    "📓  **Data distribution**: \n",
    "> Shape that a variable take when put together in a graphical representation like a histogram.\n",
    "\n",
    "Data distribution **must not be confounded with probability distribution**. Data distribution is a general term to refer to the organization of a dataset without any reference to a theoretical sample space or population. Probability distributions are mathematical functions describing the likelihood of a random variable taking some value, which is based on a series of assumptions we do not make here. Data distribution can be compared against theoretical probability distribution in a hypothesis testing setting.\n",
    "\n",
    "The main purpose of a data distribution is to show in a concise manner several characteristics of the dataset. The key elements to look at in a distribution are **whether the data is centered around none, one, or many points**, and **how dispersion of the data around its center**. "
   ]
  },
  {
   "cell_type": "markdown",
   "metadata": {},
   "source": [
    "### Unimodal and symmetric"
   ]
  },
  {
   "cell_type": "markdown",
   "metadata": {},
   "source": [
    "Unimodal and symmetric distributions have a single peak where most data is concentrated. The frequency of values decreases as you get farther away from the peak. In statistics, this type of distribution is known as a normal distribution."
   ]
  },
  {
   "cell_type": "code",
   "execution_count": 12,
   "metadata": {
    "execution": {
     "iopub.execute_input": "2020-07-30T21:48:52.810491Z",
     "iopub.status.busy": "2020-07-30T21:48:52.809754Z",
     "iopub.status.idle": "2020-07-30T21:48:53.075981Z",
     "shell.execute_reply": "2020-07-30T21:48:53.075656Z"
    }
   },
   "outputs": [
    {
     "data": {
      "image/png": "[encoded data removed]",
      "text/plain": [
       "<Figure size 432x288 with 1 Axes>"
      ]
     },
     "metadata": {
      "filenames": {
       "image/png": "/mnt/c/Users/pablo/Desktop/projects/davpython/davpython.github.io/_build/jupyter_execute/2-basic-concepts_52_0.png"
      },
      "image/png": {
       "height": 248,
       "width": 375
      },
      "needs_background": "light"
     },
     "output_type": "display_data"
    }
   ],
   "source": [
    "distribution_center = skewnorm.rvs(0, size=10000)\n",
    "distribution_center = pd.Series(distribution_center)\n",
    "distribution_center.hist(bins=50);"
   ]
  },
  {
   "cell_type": "markdown",
   "metadata": {},
   "source": [
    "### Right Skewed"
   ]
  },
  {
   "cell_type": "markdown",
   "metadata": {},
   "source": [
    "Right skewed or positively distributed data have one peak where most data is concentrated on the left. The frequency of values decreases as you move to the right in the distribution. It's called \"right\" skewed because the \"tail\" of the distribution is longer towards the right. "
   ]
  },
  {
   "cell_type": "code",
   "execution_count": 13,
   "metadata": {
    "execution": {
     "iopub.execute_input": "2020-07-30T21:48:53.091561Z",
     "iopub.status.busy": "2020-07-30T21:48:53.079746Z",
     "iopub.status.idle": "2020-07-30T21:48:53.364890Z",
     "shell.execute_reply": "2020-07-30T21:48:53.364141Z"
    }
   },
   "outputs": [
    {
     "data": {
      "image/png": "[encoded data removed]",
      "text/plain": [
       "<Figure size 432x288 with 1 Axes>"
      ]
     },
     "metadata": {
      "filenames": {
       "image/png": "/mnt/c/Users/pablo/Desktop/projects/davpython/davpython.github.io/_build/jupyter_execute/2-basic-concepts_55_0.png"
      },
      "image/png": {
       "height": 248,
       "width": 375
      },
      "needs_background": "light"
     },
     "output_type": "display_data"
    }
   ],
   "source": [
    "distribution_sr = skewnorm.rvs(10, size=10000)\n",
    "distribution_sr = pd.Series(distribution_sr)\n",
    "distribution_sr.hist(bins=50);"
   ]
  },
  {
   "cell_type": "markdown",
   "metadata": {},
   "source": [
    "### Left skewed"
   ]
  },
  {
   "cell_type": "markdown",
   "metadata": {},
   "source": [
    "Left skewed or negatively distributed data have one peak where most data is concentrated on the right. The frequency of values decreases as you move to the left in the distribution. It's called \"left\" skewed because the \"tail\" of the distribution is longer towards the left. "
   ]
  },
  {
   "cell_type": "code",
   "execution_count": 14,
   "metadata": {
    "execution": {
     "iopub.execute_input": "2020-07-30T21:48:53.370121Z",
     "iopub.status.busy": "2020-07-30T21:48:53.369328Z",
     "iopub.status.idle": "2020-07-30T21:48:53.646928Z",
     "shell.execute_reply": "2020-07-30T21:48:53.646498Z"
    }
   },
   "outputs": [
    {
     "data": {
      "image/png": "[encoded data removed]",
      "text/plain": [
       "<Figure size 432x288 with 1 Axes>"
      ]
     },
     "metadata": {
      "filenames": {
       "image/png": "/mnt/c/Users/pablo/Desktop/projects/davpython/davpython.github.io/_build/jupyter_execute/2-basic-concepts_58_0.png"
      },
      "image/png": {
       "height": 248,
       "width": 375
      },
      "needs_background": "light"
     },
     "output_type": "display_data"
    }
   ],
   "source": [
    "distribution_sl = skewnorm.rvs(-10, size=10000)\n",
    "distribution_sl = pd.Series(distribution_sl)\n",
    "distribution_sl.hist(bins=50);"
   ]
  },
  {
   "cell_type": "markdown",
   "metadata": {},
   "source": [
    "### Bimodal"
   ]
  },
  {
   "cell_type": "markdown",
   "metadata": {},
   "source": [
    "Bimodal distributed data has two instead of one peak where most data is concentrated. This is usually indicative of two distinctive groups in your data in that variable."
   ]
  },
  {
   "cell_type": "code",
   "execution_count": 15,
   "metadata": {
    "execution": {
     "iopub.execute_input": "2020-07-30T21:48:53.652161Z",
     "iopub.status.busy": "2020-07-30T21:48:53.651574Z",
     "iopub.status.idle": "2020-07-30T21:48:53.922758Z",
     "shell.execute_reply": "2020-07-30T21:48:53.922123Z"
    }
   },
   "outputs": [
    {
     "data": {
      "image/png": "[encoded data removed]",
      "text/plain": [
       "<Figure size 432x288 with 1 Axes>"
      ]
     },
     "metadata": {
      "filenames": {
       "image/png": "/mnt/c/Users/pablo/Desktop/projects/davpython/davpython.github.io/_build/jupyter_execute/2-basic-concepts_61_0.png"
      },
      "image/png": {
       "height": 248,
       "width": 375
      },
      "needs_background": "light"
     },
     "output_type": "display_data"
    }
   ],
   "source": [
    "mu1, mu2, sigma = 0, 2, 0.5 \n",
    "s1 = np.random.normal(mu1, sigma, 10000)\n",
    "s2 = np.random.normal(mu2, sigma, 10000)\n",
    "distribution_bi = pd.concat([pd.Series(s1), pd.Series(s2)])\n",
    "distribution_bi.hist(bins=50);"
   ]
  },
  {
   "cell_type": "markdown",
   "metadata": {},
   "source": [
    "### Multimodal"
   ]
  },
  {
   "cell_type": "markdown",
   "metadata": {},
   "source": [
    "Multimodal distributed data has multiple peaks (instead of one or two) where most data is concentrated. This is usually indicative of multiple distinctive groups in your data in that variable."
   ]
  },
  {
   "cell_type": "code",
   "execution_count": 16,
   "metadata": {
    "execution": {
     "iopub.execute_input": "2020-07-30T21:48:53.988463Z",
     "iopub.status.busy": "2020-07-30T21:48:53.935025Z",
     "iopub.status.idle": "2020-07-30T21:48:54.263939Z",
     "shell.execute_reply": "2020-07-30T21:48:54.263631Z"
    }
   },
   "outputs": [
    {
     "data": {
      "image/png": "[encoded data removed]",
      "text/plain": [
       "<Figure size 432x288 with 1 Axes>"
      ]
     },
     "metadata": {
      "filenames": {
       "image/png": "/mnt/c/Users/pablo/Desktop/projects/davpython/davpython.github.io/_build/jupyter_execute/2-basic-concepts_64_0.png"
      },
      "image/png": {
       "height": 248,
       "width": 381
      },
      "needs_background": "light"
     },
     "output_type": "display_data"
    }
   ],
   "source": [
    "mu3 = 4\n",
    "s3 = np.random.normal(mu3, sigma, 10000)\n",
    "distribution_mul = pd.concat([distribution_bi, pd.Series(s3)])\n",
    "distribution_mul.hist(bins=50);"
   ]
  },
  {
   "cell_type": "markdown",
   "metadata": {},
   "source": [
    "### Completely symmetric"
   ]
  },
  {
   "cell_type": "markdown",
   "metadata": {},
   "source": [
    "Symmetrically distributed data does not have any distinctive peak, indicating that instances are evenly distributed among the range of values for that variable."
   ]
  },
  {
   "cell_type": "code",
   "execution_count": 17,
   "metadata": {
    "execution": {
     "iopub.execute_input": "2020-07-30T21:48:54.286462Z",
     "iopub.status.busy": "2020-07-30T21:48:54.282090Z",
     "iopub.status.idle": "2020-07-30T21:48:54.608908Z",
     "shell.execute_reply": "2020-07-30T21:48:54.609233Z"
    }
   },
   "outputs": [
    {
     "data": {
      "image/png": "[encoded data removed]",
      "text/plain": [
       "<Figure size 432x288 with 1 Axes>"
      ]
     },
     "metadata": {
      "filenames": {
       "image/png": "/mnt/c/Users/pablo/Desktop/projects/davpython/davpython.github.io/_build/jupyter_execute/2-basic-concepts_67_0.png"
      },
      "image/png": {
       "height": 248,
       "width": 375
      },
      "needs_background": "light"
     },
     "output_type": "display_data"
    }
   ],
   "source": [
    "s4 = np.random.uniform(-1,1,10000)\n",
    "distribution_sym = pd.Series(s4)\n",
    "distribution_sym.hist(bins=50);"
   ]
  },
  {
   "cell_type": "markdown",
   "metadata": {},
   "source": [
    "## Measures of central tendency"
   ]
  },
  {
   "cell_type": "markdown",
   "metadata": {},
   "source": [
    "In nature and society, most things that we measure tend to cluster around one or multiple centers, as we saw in the cases of data distributions. Measures of central tendency are **scores aimed to capture and communicate the most frequently occurring values for a given variable**. \n",
    "\n",
    "📓  **Measures of central tendency**: \n",
    "> Scores aimed to capture and communicate the most frequently occurring values for a given variable.\n",
    "\n",
    "As you may imagine, there are multiple ways to describe what is \"at the center\" of something or to count the \"most frequently occurring\" value or instance. Here I'll briefly review the three more popular ones: the **mean**, the **median**, and the **mode**.  "
   ]
  },
  {
   "cell_type": "markdown",
   "metadata": {},
   "source": [
    "### Mean "
   ]
  },
  {
   "cell_type": "markdown",
   "metadata": {},
   "source": [
    "It turns out that there are multiple kinds of means in mathematics. In most cases, we will be referring to the arithmetic mean or average, which is defined as:\n",
    "\n",
    "$$\n",
    "mean = \\frac{1}{n}\\sum_{i=1}^{n}x_i = \\frac{x_1 + x_2 + ... + x_n}{n}\n",
    "$$\n",
    "\n",
    "Put simply, the sum of each value divided by the total number of values.\n",
    "\n",
    "In `pandas` we can use the `mean` method to compute the mean of any numerical variable:"
   ]
  },
  {
   "cell_type": "code",
   "execution_count": 18,
   "metadata": {
    "execution": {
     "iopub.execute_input": "2020-07-30T21:48:54.617605Z",
     "iopub.status.busy": "2020-07-30T21:48:54.616954Z",
     "iopub.status.idle": "2020-07-30T21:48:54.620666Z",
     "shell.execute_reply": "2020-07-30T21:48:54.621175Z"
    }
   },
   "outputs": [
    {
     "data": {
      "text/plain": [
       "age    19.857143\n",
       "dtype: float64"
      ]
     },
     "execution_count": 18,
     "metadata": {},
     "output_type": "execute_result"
    }
   ],
   "source": [
    "ages = {'age': np.repeat([18, 19, 19, 20, 21, 21, 21], 10)}\n",
    "\n",
    "ages_data = pd.DataFrame.from_dict(ages)\n",
    "\n",
    "ages_data.mean()"
   ]
  },
  {
   "cell_type": "markdown",
   "metadata": {},
   "source": [
    "### Median"
   ]
  },
  {
   "cell_type": "markdown",
   "metadata": {},
   "source": [
    "The median is the midpoint  of a distribution, meaning that half of the values will be above the median and the other half below the median. Finding the median usually proceed by sorting the values in a variable and then using some computationally efficient search algorithm that we do not need to know about. If you are interested in median-finding algorithms [check this article](https://brilliant.org/wiki/median-finding-algorithm/).\n",
    "\n",
    "In `pandas` we can use the `median` method."
   ]
  },
  {
   "cell_type": "code",
   "execution_count": 19,
   "metadata": {
    "execution": {
     "iopub.execute_input": "2020-07-30T21:48:54.625666Z",
     "iopub.status.busy": "2020-07-30T21:48:54.625277Z",
     "iopub.status.idle": "2020-07-30T21:48:54.631817Z",
     "shell.execute_reply": "2020-07-30T21:48:54.632222Z"
    }
   },
   "outputs": [
    {
     "data": {
      "text/plain": [
       "age    20.0\n",
       "dtype: float64"
      ]
     },
     "execution_count": 19,
     "metadata": {},
     "output_type": "execute_result"
    }
   ],
   "source": [
    "ages_data.median()"
   ]
  },
  {
   "cell_type": "markdown",
   "metadata": {},
   "source": [
    "### Mode"
   ]
  },
  {
   "cell_type": "markdown",
   "metadata": {},
   "source": [
    "The mode measures the value of a variable that is repeated the most. Similarly to the median, computers implement some version of sorting and/or mode-finding algorithm to solve this problem for us.  \n",
    "\n",
    "In `pandas` we can check the mode by constructing a sorted frequency table with the `value_counts` method or with the `mode` method."
   ]
  },
  {
   "cell_type": "code",
   "execution_count": 20,
   "metadata": {
    "execution": {
     "iopub.execute_input": "2020-07-30T21:48:54.638429Z",
     "iopub.status.busy": "2020-07-30T21:48:54.637961Z",
     "iopub.status.idle": "2020-07-30T21:48:54.643320Z",
     "shell.execute_reply": "2020-07-30T21:48:54.642886Z"
    }
   },
   "outputs": [
    {
     "data": {
      "text/plain": [
       "21    30\n",
       "19    20\n",
       "20    10\n",
       "18    10\n",
       "Name: age, dtype: int64"
      ]
     },
     "execution_count": 20,
     "metadata": {},
     "output_type": "execute_result"
    }
   ],
   "source": [
    "ages_data['age'].value_counts()"
   ]
  },
  {
   "cell_type": "markdown",
   "metadata": {},
   "source": [
    "From the frequency table we can see that age 21 is the mode. `Pandas` also have a custom method for the mode:"
   ]
  },
  {
   "cell_type": "code",
   "execution_count": 21,
   "metadata": {
    "execution": {
     "iopub.execute_input": "2020-07-30T21:48:54.646919Z",
     "iopub.status.busy": "2020-07-30T21:48:54.646451Z",
     "iopub.status.idle": "2020-07-30T21:48:54.663769Z",
     "shell.execute_reply": "2020-07-30T21:48:54.663342Z"
    }
   },
   "outputs": [
    {
     "data": {
      "text/html": [
       "<div>\n",
       "<style scoped>\n",
       "    .dataframe tbody tr th:only-of-type {\n",
       "        vertical-align: middle;\n",
       "    }\n",
       "\n",
       "    .dataframe tbody tr th {\n",
       "        vertical-align: top;\n",
       "    }\n",
       "\n",
       "    .dataframe thead th {\n",
       "        text-align: right;\n",
       "    }\n",
       "</style>\n",
       "<table border=\"1\" class=\"dataframe\">\n",
       "  <thead>\n",
       "    <tr style=\"text-align: right;\">\n",
       "      <th></th>\n",
       "      <th>age</th>\n",
       "    </tr>\n",
       "  </thead>\n",
       "  <tbody>\n",
       "    <tr>\n",
       "      <th>0</th>\n",
       "      <td>21</td>\n",
       "    </tr>\n",
       "  </tbody>\n",
       "</table>\n",
       "</div>"
      ],
      "text/plain": [
       "   age\n",
       "0   21"
      ]
     },
     "execution_count": 21,
     "metadata": {},
     "output_type": "execute_result"
    }
   ],
   "source": [
    "ages_data.mode()"
   ]
  },
  {
   "cell_type": "markdown",
   "metadata": {},
   "source": [
    "## Measures of dispersion"
   ]
  },
  {
   "cell_type": "markdown",
   "metadata": {},
   "source": [
    "Learning about how data is clustered is good, but to obtain a more complete picture of our data with also want to examine how varies around its center(s). There are even cases where you will find distributions with the same or similar mean, median, and mode, yet distributed in widely different manners. Measures of dispersion are **scores aimed to capture and communicate how values are dispersed around its center for a given variable**. \n",
    "\n",
    "📓  **Measures of dispersion**: \n",
    "> Scores aimed to capture and communicate how values are dispersed around its center for a given variable.\n",
    "\n",
    "Take the example below:"
   ]
  },
  {
   "cell_type": "code",
   "execution_count": 22,
   "metadata": {
    "execution": {
     "iopub.execute_input": "2020-07-30T21:48:54.670788Z",
     "iopub.status.busy": "2020-07-30T21:48:54.669702Z",
     "iopub.status.idle": "2020-07-30T21:48:54.675495Z",
     "shell.execute_reply": "2020-07-30T21:48:54.674988Z"
    }
   },
   "outputs": [
    {
     "name": "stdout",
     "output_type": "stream",
     "text": [
      "Mean series-1: 0.979\n",
      "Mean series-2: 0.986\n",
      "Mean series-3: 1.014\n"
     ]
    }
   ],
   "source": [
    "s1 = pd.Series(np.random.normal(1, 3, 10000))\n",
    "s2 = pd.Series(np.random.normal(1, 2, 10000))\n",
    "s3 = pd.Series(np.random.normal(1, 1, 10000))\n",
    "\n",
    "print (f'Mean series-1: {np.round(s1.mean(), 3)}\\n'\n",
    "       f'Mean series-2: {np.round(s2.mean(), 3)}\\n'\n",
    "       f'Mean series-3: {np.round(s3.mean(), 3)}')"
   ]
  },
  {
   "cell_type": "markdown",
   "metadata": {},
   "source": [
    "Although the three series have nearly identical means, plotting reveals that they have different shapes:"
   ]
  },
  {
   "cell_type": "code",
   "execution_count": 23,
   "metadata": {
    "execution": {
     "iopub.execute_input": "2020-07-30T21:48:54.685714Z",
     "iopub.status.busy": "2020-07-30T21:48:54.684645Z",
     "iopub.status.idle": "2020-07-30T21:48:55.096947Z",
     "shell.execute_reply": "2020-07-30T21:48:55.096480Z"
    }
   },
   "outputs": [
    {
     "data": {
      "image/png": "[encoded data removed]",
      "text/plain": [
       "<Figure size 432x288 with 1 Axes>"
      ]
     },
     "metadata": {
      "filenames": {
       "image/png": "/mnt/c/Users/pablo/Desktop/projects/davpython/davpython.github.io/_build/jupyter_execute/2-basic-concepts_85_0.png"
      },
      "image/png": {
       "height": 248,
       "width": 375
      },
      "needs_background": "light"
     },
     "output_type": "display_data"
    }
   ],
   "source": [
    "s1.hist(bins= 50, alpha= 0.8);\n",
    "s2.hist(bins= 50, alpha= 0.5);\n",
    "s3.hist(bins= 50, alpha= 0.5);"
   ]
  },
  {
   "cell_type": "markdown",
   "metadata": {},
   "source": [
    "### Range"
   ]
  },
  {
   "cell_type": "markdown",
   "metadata": {},
   "source": [
    "The range of variables is a score describing the difference between the largest and smallest value. It is useful to get a sense of what are the limits of variables and to catch unusual values. It's computed as:\n",
    "\n",
    "$$\n",
    "range = max - min\n",
    "$$\n",
    "\n",
    "In `pandas` we compute the range as:"
   ]
  },
  {
   "cell_type": "code",
   "execution_count": 24,
   "metadata": {
    "execution": {
     "iopub.execute_input": "2020-07-30T21:48:55.102322Z",
     "iopub.status.busy": "2020-07-30T21:48:55.101637Z",
     "iopub.status.idle": "2020-07-30T21:48:55.125868Z",
     "shell.execute_reply": "2020-07-30T21:48:55.125441Z"
    }
   },
   "outputs": [
    {
     "data": {
      "text/plain": [
       "age    3\n",
       "dtype: int64"
      ]
     },
     "execution_count": 24,
     "metadata": {},
     "output_type": "execute_result"
    }
   ],
   "source": [
    "ages_data.max() - ages_data.min()"
   ]
  },
  {
   "cell_type": "markdown",
   "metadata": {},
   "source": [
    "### Interquartile range"
   ]
  },
  {
   "cell_type": "markdown",
   "metadata": {},
   "source": [
    "The interquartile range (IQR) of a variable is a **score measuring the difference between the 75th and 25th percentiles of a variable, or the difference between the first and third quartiles**. Is computed as:\n",
    "\n",
    "$$\n",
    "IQR = Q_3 - Q_1\n",
    "$$\n",
    "\n",
    "In `pandas` we compute the IQR as:"
   ]
  },
  {
   "cell_type": "code",
   "execution_count": 25,
   "metadata": {
    "execution": {
     "iopub.execute_input": "2020-07-30T21:48:55.132089Z",
     "iopub.status.busy": "2020-07-30T21:48:55.131447Z",
     "iopub.status.idle": "2020-07-30T21:48:55.142780Z",
     "shell.execute_reply": "2020-07-30T21:48:55.142416Z"
    }
   },
   "outputs": [
    {
     "data": {
      "text/plain": [
       "age    2.0\n",
       "dtype: float64"
      ]
     },
     "execution_count": 25,
     "metadata": {},
     "output_type": "execute_result"
    }
   ],
   "source": [
    "ages_data.quantile(.75) - ages_data.quantile(.25)"
   ]
  },
  {
   "cell_type": "markdown",
   "metadata": {},
   "source": [
    "### Variance"
   ]
  },
  {
   "cell_type": "markdown",
   "metadata": {},
   "source": [
    "Put simply, the variance is a **score measuring the spread of a set of values around their average value**. The variance has a more technical definition in probability theory, which mathematically can be expressed as:\n",
    "\n",
    "$$\n",
    "S^2 = \\frac{\\sum_{i=1}^n(x_i-\\hat{x})^2}{n-1}\n",
    "$$\n",
    "\n",
    "Where $S^2$ is the variance, $x_i$ is a single value, $\\hat{x}$ is the mean of all values, and $n$ is the total number of values.\n",
    "\n",
    "The variance plays a central role in probability theory and hypothesis testing, but in the context of exploratory data analysis, its main purpose is to help to better understand the shape of a distribution.\n",
    "\n",
    "In `pandas` we can compute the variance as:"
   ]
  },
  {
   "cell_type": "code",
   "execution_count": 26,
   "metadata": {
    "execution": {
     "iopub.execute_input": "2020-07-30T21:48:55.147844Z",
     "iopub.status.busy": "2020-07-30T21:48:55.147439Z",
     "iopub.status.idle": "2020-07-30T21:48:55.152737Z",
     "shell.execute_reply": "2020-07-30T21:48:55.151972Z"
    }
   },
   "outputs": [
    {
     "data": {
      "text/plain": [
       "age    1.283644\n",
       "dtype: float64"
      ]
     },
     "execution_count": 26,
     "metadata": {},
     "output_type": "execute_result"
    }
   ],
   "source": [
    "ages_data.var()"
   ]
  },
  {
   "cell_type": "markdown",
   "metadata": {},
   "source": [
    "### Standard deviation"
   ]
  },
  {
   "cell_type": "markdown",
   "metadata": {},
   "source": [
    "Informally, the standard deviation (SD) has the same meaning that the variance: **a score measuring the spread of a set of values around their average value**. The key difference is that **the SD is expressed in the same units as the mean**. This makes the SD the preferred option when describing the dispersion of the data in exploratory data analysis. Mathematically, the SD is the square root of the variance: \n",
    "\n",
    "$$\n",
    "\\sigma^2 = \\sqrt{\\frac{\\sum_{i=1}^n(x_i-\\hat{x})^2}{n-1}}\n",
    "$$\n",
    "\n",
    "In `pandas` we can compute the standard deviation as:"
   ]
  },
  {
   "cell_type": "code",
   "execution_count": 27,
   "metadata": {
    "execution": {
     "iopub.execute_input": "2020-07-30T21:48:55.158365Z",
     "iopub.status.busy": "2020-07-30T21:48:55.157781Z",
     "iopub.status.idle": "2020-07-30T21:48:55.162741Z",
     "shell.execute_reply": "2020-07-30T21:48:55.163031Z"
    }
   },
   "outputs": [
    {
     "data": {
      "text/plain": [
       "age    1.13298\n",
       "dtype: float64"
      ]
     },
     "execution_count": 27,
     "metadata": {},
     "output_type": "execute_result"
    }
   ],
   "source": [
    "ages_data.std()"
   ]
  },
  {
   "cell_type": "markdown",
   "metadata": {},
   "source": [
    "## Summary tables"
   ]
  },
  {
   "cell_type": "markdown",
   "metadata": {},
   "source": [
    "In the previous sections, we examined and computed measures of central tendency and dispersion one by one. Normally you would not do this as it's time-consuming and cumbersome. Summary tables are a way to put together several measures of central tendency and dispersion to obtain a quick overview of the dataset. `Pandas` provides the `describe` method to construct summary tables:"
   ]
  },
  {
   "cell_type": "code",
   "execution_count": 28,
   "metadata": {
    "execution": {
     "iopub.execute_input": "2020-07-30T21:48:55.175584Z",
     "iopub.status.busy": "2020-07-30T21:48:55.175101Z",
     "iopub.status.idle": "2020-07-30T21:48:55.179578Z",
     "shell.execute_reply": "2020-07-30T21:48:55.179177Z"
    }
   },
   "outputs": [
    {
     "data": {
      "text/html": [
       "<div>\n",
       "<style scoped>\n",
       "    .dataframe tbody tr th:only-of-type {\n",
       "        vertical-align: middle;\n",
       "    }\n",
       "\n",
       "    .dataframe tbody tr th {\n",
       "        vertical-align: top;\n",
       "    }\n",
       "\n",
       "    .dataframe thead th {\n",
       "        text-align: right;\n",
       "    }\n",
       "</style>\n",
       "<table border=\"1\" class=\"dataframe\">\n",
       "  <thead>\n",
       "    <tr style=\"text-align: right;\">\n",
       "      <th></th>\n",
       "      <th>age</th>\n",
       "    </tr>\n",
       "  </thead>\n",
       "  <tbody>\n",
       "    <tr>\n",
       "      <th>count</th>\n",
       "      <td>70.000000</td>\n",
       "    </tr>\n",
       "    <tr>\n",
       "      <th>mean</th>\n",
       "      <td>19.857143</td>\n",
       "    </tr>\n",
       "    <tr>\n",
       "      <th>std</th>\n",
       "      <td>1.132980</td>\n",
       "    </tr>\n",
       "    <tr>\n",
       "      <th>min</th>\n",
       "      <td>18.000000</td>\n",
       "    </tr>\n",
       "    <tr>\n",
       "      <th>25%</th>\n",
       "      <td>19.000000</td>\n",
       "    </tr>\n",
       "    <tr>\n",
       "      <th>50%</th>\n",
       "      <td>20.000000</td>\n",
       "    </tr>\n",
       "    <tr>\n",
       "      <th>75%</th>\n",
       "      <td>21.000000</td>\n",
       "    </tr>\n",
       "    <tr>\n",
       "      <th>max</th>\n",
       "      <td>21.000000</td>\n",
       "    </tr>\n",
       "  </tbody>\n",
       "</table>\n",
       "</div>"
      ],
      "text/plain": [
       "             age\n",
       "count  70.000000\n",
       "mean   19.857143\n",
       "std     1.132980\n",
       "min    18.000000\n",
       "25%    19.000000\n",
       "50%    20.000000\n",
       "75%    21.000000\n",
       "max    21.000000"
      ]
     },
     "execution_count": 28,
     "metadata": {},
     "output_type": "execute_result"
    }
   ],
   "source": [
    "ages_data.describe()"
   ]
  }
 ],
 "metadata": {
  "kernelspec": {
   "display_name": "Python 3.6.8 64-bit ('venv': venv)",
   "language": "python",
   "name": "python36864bitvenvvenve269670d94154a47aa0ba5a4660e02de"
  },
  "language_info": {
   "codemirror_mode": {
    "name": "ipython",
    "version": 3
   },
   "file_extension": ".py",
   "mimetype": "text/x-python",
   "name": "python",
   "nbconvert_exporter": "python",
   "pygments_lexer": "ipython3",
   "version": "3.6.8"
  },
  "toc-autonumbering": true
 },
 "nbformat": 4,
 "nbformat_minor": 4
}